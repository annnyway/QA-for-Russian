{
  "nbformat": 4,
  "nbformat_minor": 0,
  "metadata": {
    "colab": {
      "name": "Dataset_subset_for_learning.ipynb",
      "provenance": [],
      "collapsed_sections": [],
      "include_colab_link": true
    },
    "kernelspec": {
      "name": "python3",
      "display_name": "Python 3"
    }
  },
  "cells": [
    {
      "cell_type": "markdown",
      "metadata": {
        "id": "view-in-github",
        "colab_type": "text"
      },
      "source": [
        "<a href=\"https://colab.research.google.com/github/annnyway/QA-for-Russian/blob/master/Dataset_subset_for_learning.ipynb\" target=\"_parent\"><img src=\"https://colab.research.google.com/assets/colab-badge.svg\" alt=\"Open In Colab\"/></a>"
      ]
    },
    {
      "cell_type": "code",
      "metadata": {
        "id": "X6LcDissC0wI",
        "colab_type": "code",
        "colab": {
          "base_uri": "https://localhost:8080/",
          "height": 360
        },
        "outputId": "d4b3192b-a8d0-46a5-db57-bb9e0347258a"
      },
      "source": [
        "!pip3 install razdel pytorch_pretrained_bert regex\n",
        "import pandas as pd\n",
        "import numpy as np\n",
        "import seaborn as sns\n",
        "from matplotlib import pyplot as plt\n",
        "from razdel import tokenize\n",
        "from tqdm.auto import tqdm\n",
        "from torch.utils.data import Dataset, DataLoader\n",
        "import torch\n",
        "from pytorch_pretrained_bert import BertModel, BertTokenizer, BertForMaskedLM, BertConfig\n",
        "from google.colab import drive\n",
        "drive.mount('/content/drive')"
      ],
      "execution_count": 60,
      "outputs": [
        {
          "output_type": "stream",
          "text": [
            "Requirement already satisfied: razdel in /usr/local/lib/python3.6/dist-packages (0.4.0)\n",
            "Requirement already satisfied: pytorch_pretrained_bert in /usr/local/lib/python3.6/dist-packages (0.6.2)\n",
            "Requirement already satisfied: regex in /usr/local/lib/python3.6/dist-packages (2019.12.19)\n",
            "Requirement already satisfied: tqdm in /usr/local/lib/python3.6/dist-packages (from pytorch_pretrained_bert) (4.28.1)\n",
            "Requirement already satisfied: requests in /usr/local/lib/python3.6/dist-packages (from pytorch_pretrained_bert) (2.21.0)\n",
            "Requirement already satisfied: torch>=0.4.1 in /usr/local/lib/python3.6/dist-packages (from pytorch_pretrained_bert) (1.3.1)\n",
            "Requirement already satisfied: boto3 in /usr/local/lib/python3.6/dist-packages (from pytorch_pretrained_bert) (1.10.36)\n",
            "Requirement already satisfied: numpy in /usr/local/lib/python3.6/dist-packages (from pytorch_pretrained_bert) (1.17.4)\n",
            "Requirement already satisfied: urllib3<1.25,>=1.21.1 in /usr/local/lib/python3.6/dist-packages (from requests->pytorch_pretrained_bert) (1.24.3)\n",
            "Requirement already satisfied: idna<2.9,>=2.5 in /usr/local/lib/python3.6/dist-packages (from requests->pytorch_pretrained_bert) (2.8)\n",
            "Requirement already satisfied: certifi>=2017.4.17 in /usr/local/lib/python3.6/dist-packages (from requests->pytorch_pretrained_bert) (2019.11.28)\n",
            "Requirement already satisfied: chardet<3.1.0,>=3.0.2 in /usr/local/lib/python3.6/dist-packages (from requests->pytorch_pretrained_bert) (3.0.4)\n",
            "Requirement already satisfied: jmespath<1.0.0,>=0.7.1 in /usr/local/lib/python3.6/dist-packages (from boto3->pytorch_pretrained_bert) (0.9.4)\n",
            "Requirement already satisfied: s3transfer<0.3.0,>=0.2.0 in /usr/local/lib/python3.6/dist-packages (from boto3->pytorch_pretrained_bert) (0.2.1)\n",
            "Requirement already satisfied: botocore<1.14.0,>=1.13.36 in /usr/local/lib/python3.6/dist-packages (from boto3->pytorch_pretrained_bert) (1.13.36)\n",
            "Requirement already satisfied: docutils<0.16,>=0.10 in /usr/local/lib/python3.6/dist-packages (from botocore<1.14.0,>=1.13.36->boto3->pytorch_pretrained_bert) (0.15.2)\n",
            "Requirement already satisfied: python-dateutil<2.8.1,>=2.1; python_version >= \"2.7\" in /usr/local/lib/python3.6/dist-packages (from botocore<1.14.0,>=1.13.36->boto3->pytorch_pretrained_bert) (2.6.1)\n",
            "Requirement already satisfied: six>=1.5 in /usr/local/lib/python3.6/dist-packages (from python-dateutil<2.8.1,>=2.1; python_version >= \"2.7\"->botocore<1.14.0,>=1.13.36->boto3->pytorch_pretrained_bert) (1.12.0)\n",
            "Drive already mounted at /content/drive; to attempt to forcibly remount, call drive.mount(\"/content/drive\", force_remount=True).\n"
          ],
          "name": "stdout"
        }
      ]
    },
    {
      "cell_type": "code",
      "metadata": {
        "id": "oGxU4k2KYxh8",
        "colab_type": "code",
        "colab": {}
      },
      "source": [
        "def tokenize_text(text):\n",
        "    \"\"\"Токенизация\"\"\"\n",
        "    words = [_.text for _ in list(tokenize(text))]\n",
        "    return words\n",
        "\n",
        "\n",
        "class QADataset(Dataset):\n",
        "\n",
        "    def __init__(self, tokenizer: BertTokenizer,\n",
        "                 paragraph_tokens: list,\n",
        "                 question_tokens: list,\n",
        "                 answer_spans: list,\n",
        "                 word2index: dict,\n",
        "                 verbose=True,\n",
        "                 max_seq_len=512,\n",
        "                pad_token=\"[PAD]\"):\n",
        "\n",
        "        super().__init__()\n",
        "        self.tokenizer = tokenizer\n",
        "        self.word2index = word2index\n",
        "        self.word2bert_tokens = {word: self.tokenizer.tokenize(word) for word\n",
        "                                 in tqdm(list(self.word2index.keys())[1:])}\n",
        "        self.word2bert_indices = {\n",
        "            word: [self.tokenizer.vocab[bert_token] for bert_token in\n",
        "                   self.word2bert_tokens[word]] for word in\n",
        "            self.word2bert_tokens.keys()}\n",
        "\n",
        "        self.sequence_length = max_seq_len\n",
        "        self.pad_index = self.word2index[pad_token]\n",
        "\n",
        "        self.x_data = []\n",
        "        # self.load_x(paragraph_tokens, question_tokens, verbose=verbose)\n",
        "        self.y_data = []\n",
        "        # self.load_y(answer_spans)\n",
        "        self.load_x_y(paragraph_tokens, question_tokens, answer_spans)\n",
        "\n",
        "    def load_x_y(self, paragraphs, questions, spans, verbose=True):\n",
        "        for par, quest, span in tqdm(zip(paragraphs, questions, spans),\n",
        "                                     desc=\"Loading data\", disable=not verbose):\n",
        "            tokens = [\"[CLS]\"] + par + [\"[SEP]\"] + quest + [\"[SEP]\"]\n",
        "            start, end = span.split(\",\")\n",
        "            start, end = int(start), int(end)\n",
        "            bert_tokens = [self.word2bert_indices[word] for word in tokens]\n",
        "            bert_span_start = sum(len(x) for x in bert_tokens[:start + 1])\n",
        "            bert_span_end = sum(len(x) for x in bert_tokens[:end + 1]) # прибавляем 1, т.к. у нас в начале есть еще токен CLS\n",
        "            span = (bert_span_start, bert_span_end) \n",
        "            \n",
        "            bert_tokens = sum(bert_tokens, [])\n",
        "            if len(bert_tokens) > 512:\n",
        "                par_tokens = [self.word2bert_indices[word] for word in [\"[CLS]\"] + par]\n",
        "                quest_tokens = [self.word2bert_indices[word] for word in [\"[SEP]\"] + quest + [\"[SEP]\"]]\n",
        "                if bert_span_start <= len(par_tokens)/2: # если спан в первой половине параграфа\n",
        "                    slice_ = len(bert_tokens) - 512\n",
        "                    bert_tokens = sum(par_tokens[:-slice_] + quest_tokens, [])\n",
        "                elif bert_span_start > len(par_tokens)/2:\n",
        "                    slice_ = len(bert_tokens) - 512\n",
        "                    bert_tokens = sum(par_tokens[slice_:] + quest_tokens, [])\n",
        "                    bert_span_start = bert_span_start - slice_\n",
        "                    bert_span_end = bert_span_end - slice_\n",
        "                    span = (bert_span_start, bert_span_end)\n",
        "                elif bert_span_start > 1024:\n",
        "                    factor = floor(len(bert_tokens)/512)\n",
        "                    slice_ = len(bert_tokens) - 512*factor\n",
        "                    bert_tokens = sum(par_tokens[slice_:] + quest_tokens, [])\n",
        "                    bert_span_start = bert_span_start - slice_\n",
        "                    bert_span_end = bert_span_end - slice_\n",
        "                    span = (bert_span_start, bert_span_end)\n",
        "\n",
        "                    \n",
        "            self.x_data.append(bert_tokens)\n",
        "            self.y_data.append(span)\n",
        "\n",
        "    def padding(self, sequence):\n",
        "        if len(sequence) > self.sequence_length:\n",
        "            sequence = sequence[: self.sequence_length]\n",
        "        elif len(sequence) < self.sequence_length:\n",
        "            sequence += [self.pad_index for i in\n",
        "                         range(self.sequence_length - len(sequence))]\n",
        "        return sequence\n",
        "\n",
        "    def create_y_matrix(self, span):\n",
        "        startspan = span[0]\n",
        "        endspan = span[1]\n",
        "        ansten = torch.zeros(512).long()\n",
        "        for i in range(startspan, endspan):\n",
        "            if i <= 512:\n",
        "                ansten[i] = 1\n",
        "            else:\n",
        "                continue\n",
        "        return ansten  \n",
        "\n",
        "\n",
        "    def __len__(self):\n",
        "        return len(self.x_data)\n",
        "\n",
        "    def __getitem__(self, idx):\n",
        "\n",
        "        x = self.x_data[idx]\n",
        "        x = self.padding(x)\n",
        "        x = torch.Tensor(x).long()\n",
        "        y = self.y_data[idx]\n",
        "        y = self.create_y_matrix(y)\n",
        "        return x, y"
      ],
      "execution_count": 0,
      "outputs": []
    },
    {
      "cell_type": "code",
      "metadata": {
        "id": "N2fbaqxxY6J0",
        "colab_type": "code",
        "colab": {}
      },
      "source": [
        "data = pd.read_csv(\"/content/drive/My Drive/COLABDRIVE/sdsj2017_sberquad_with_spans(minus_30_examples).csv\")"
      ],
      "execution_count": 0,
      "outputs": []
    },
    {
      "cell_type": "code",
      "metadata": {
        "id": "M-EmI2ExaShD",
        "colab_type": "code",
        "colab": {}
      },
      "source": [
        "## Можно просто скопировать эту часть в вашу тетрадь \n",
        "data['span_len'] = data.apply(lambda row: int(row.word_answer_span.split(\",\")[1]) - int(row.word_answer_span.split(\",\")[0]), axis = 1) \n",
        "data['span_avg'] = data.apply(lambda row: (int(row.word_answer_span.split(\",\")[1])+int(row.word_answer_span.split(\",\")[0]))/2, axis = 1)\n",
        "data_select = data[(data.span_len <= 10) & (data.span_avg <= 150)]\n",
        "data_select.sample(frac=0.11) "
      ],
      "execution_count": 0,
      "outputs": []
    },
    {
      "cell_type": "code",
      "metadata": {
        "id": "3P2OcZdYeNKh",
        "colab_type": "code",
        "colab": {
          "base_uri": "https://localhost:8080/",
          "height": 297
        },
        "outputId": "17deaea8-02df-4e49-dad2-5ff96fcad52f"
      },
      "source": [
        "sns.distplot(data.span_len) "
      ],
      "execution_count": 74,
      "outputs": [
        {
          "output_type": "execute_result",
          "data": {
            "text/plain": [
              "<matplotlib.axes._subplots.AxesSubplot at 0x7f2cb721add8>"
            ]
          },
          "metadata": {
            "tags": []
          },
          "execution_count": 74
        },
        {
          "output_type": "display_data",
          "data": {
            "image/png": "[encoded data removed]",
            "text/plain": [
              "<Figure size 432x288 with 1 Axes>"
            ]
          },
          "metadata": {
            "tags": []
          }
        }
      ]
    },
    {
      "cell_type": "code",
      "metadata": {
        "id": "O0dJh7V7k7zn",
        "colab_type": "code",
        "colab": {
          "base_uri": "https://localhost:8080/",
          "height": 296
        },
        "outputId": "a74081dd-8180-4c4a-8c6d-32036c1f4f79"
      },
      "source": [
        "sns.distplot(data.span_avg)"
      ],
      "execution_count": 75,
      "outputs": [
        {
          "output_type": "execute_result",
          "data": {
            "text/plain": [
              "<matplotlib.axes._subplots.AxesSubplot at 0x7f2cb90fb6a0>"
            ]
          },
          "metadata": {
            "tags": []
          },
          "execution_count": 75
        },
        {
          "output_type": "display_data",
          "data": {
            "image/png": "[encoded data removed]",
            "text/plain": [
              "<Figure size 432x288 with 1 Axes>"
            ]
          },
          "metadata": {
            "tags": []
          }
        }
      ]
    },
    {
      "cell_type": "markdown",
      "metadata": {
        "id": "k4jkRnjBlXuq",
        "colab_type": "text"
      },
      "source": [
        ""
      ]
    },
    {
      "cell_type": "code",
      "metadata": {
        "id": "qLv7AFwelA9n",
        "colab_type": "code",
        "colab": {
          "base_uri": "https://localhost:8080/",
          "height": 296
        },
        "outputId": "62237da5-2838-40ae-ad2c-3b7dc7c59633"
      },
      "source": [
        "sns.distplot(data_select.span_avg)"
      ],
      "execution_count": 84,
      "outputs": [
        {
          "output_type": "execute_result",
          "data": {
            "text/plain": [
              "<matplotlib.axes._subplots.AxesSubplot at 0x7f2cb721ab38>"
            ]
          },
          "metadata": {
            "tags": []
          },
          "execution_count": 84
        },
        {
          "output_type": "display_data",
          "data": {
            "image/png": "[encoded data removed]",
            "text/plain": [
              "<Figure size 432x288 with 1 Axes>"
            ]
          },
          "metadata": {
            "tags": []
          }
        }
      ]
    },
    {
      "cell_type": "code",
      "metadata": {
        "id": "fq28G2TFlN_j",
        "colab_type": "code",
        "colab": {}
      },
      "source": [
        ""
      ],
      "execution_count": 0,
      "outputs": []
    }
  ]
}