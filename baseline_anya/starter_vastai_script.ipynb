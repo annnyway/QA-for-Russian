{
 "cells": [
  {
   "cell_type": "code",
   "execution_count": 1,
   "metadata": {
    "scrolled": false
   },
   "outputs": [
    {
     "name": "stdout",
     "output_type": "stream",
     "text": [
      "Collecting gdown\n",
      "  Downloading https://files.pythonhosted.org/packages/b0/b4/a8e9d0b02bca6aa53087001abf064cc9992bda11bd6840875b8098d93573/gdown-3.8.3.tar.gz\n",
      "Collecting filelock (from gdown)\n",
      "  Downloading https://files.pythonhosted.org/packages/93/83/71a2ee6158bb9f39a90c0dea1637f81d5eef866e188e1971a1b1ab01a35a/filelock-3.0.12-py3-none-any.whl\n",
      "Requirement already satisfied: requests in /opt/conda/lib/python3.7/site-packages (from gdown) (2.19.1)\n",
      "Requirement already satisfied: six in /opt/conda/lib/python3.7/site-packages (from gdown) (1.11.0)\n",
      "Collecting tqdm (from gdown)\n",
      "\u001b[?25l  Downloading https://files.pythonhosted.org/packages/8c/c3/d049cf3fb31094ee045ec1ee29fffac218c91e82c8838c49ab4c3e52627b/tqdm-4.41.0-py2.py3-none-any.whl (56kB)\n",
      "\u001b[K    100% |████████████████████████████████| 61kB 1.4MB/s ta 0:00:011\n",
      "\u001b[?25hRequirement already satisfied: chardet<3.1.0,>=3.0.2 in /opt/conda/lib/python3.7/site-packages (from requests->gdown) (3.0.4)\n",
      "Requirement already satisfied: urllib3<1.24,>=1.21.1 in /opt/conda/lib/python3.7/site-packages (from requests->gdown) (1.23)\n",
      "Requirement already satisfied: idna<2.8,>=2.5 in /opt/conda/lib/python3.7/site-packages (from requests->gdown) (2.7)\n",
      "Requirement already satisfied: certifi>=2017.4.17 in /opt/conda/lib/python3.7/site-packages (from requests->gdown) (2018.11.29)\n",
      "Building wheels for collected packages: gdown\n",
      "  Running setup.py bdist_wheel for gdown ... \u001b[?25ldone\n",
      "\u001b[?25h  Stored in directory: /root/.cache/pip/wheels/a7/9d/16/9e0bda9a327ff2cddaee8de48a27553fb1efce73133593d066\n",
      "Successfully built gdown\n",
      "Installing collected packages: filelock, tqdm, gdown\n",
      "Successfully installed filelock-3.0.12 gdown-3.8.3 tqdm-4.41.0\n",
      "\u001b[33mYou are using pip version 10.0.1, however version 19.3.1 is available.\n",
      "You should consider upgrading via the 'pip install --upgrade pip' command.\u001b[0m\n",
      "Downloading...\n",
      "From: https://drive.google.com/uc?id=11AENyWl6fD5rgoIIwnZy692vE_pqZQ8Z\n",
      "To: /workspace/sdsj2017_sberquad_with_spans(minus_30_examples).csv\n",
      "149MB [00:12, 11.7MB/s] \n",
      "Downloading...\n",
      "From: https://drive.google.com/uc?id=1ZCgMnlPTQvmU4KB5HQpLGFNZt-uEzNks\n",
      "To: /workspace/zipfile.zip\n",
      "1.33GB [01:52, 11.7MB/s]\n",
      "Reading package lists... Done\n",
      "Building dependency tree       \n",
      "Reading state information... Done\n",
      "Suggested packages:\n",
      "  zip\n",
      "The following NEW packages will be installed:\n",
      "  unzip\n",
      "0 upgraded, 1 newly installed, 0 to remove and 93 not upgraded.\n",
      "Need to get 158 kB of archives.\n",
      "After this operation, 530 kB of additional disk space will be used.\n",
      "Get:1 http://archive.ubuntu.com/ubuntu xenial/main amd64 unzip amd64 6.0-20ubuntu1 [158 kB]\n",
      "Fetched 158 kB in 0s (421 kB/s)\n",
      "debconf: delaying package configuration, since apt-utils is not installed\n",
      "Selecting previously unselected package unzip.\n",
      "(Reading database ... 18074 files and directories currently installed.)\n",
      "Preparing to unpack .../unzip_6.0-20ubuntu1_amd64.deb ...\n",
      "Unpacking unzip (6.0-20ubuntu1) ...\n",
      "Processing triggers for mime-support (3.59ubuntu1) ...\n",
      "Setting up unzip (6.0-20ubuntu1) ...\n",
      "Archive:  zipfile.zip\n",
      "   creating: ./lm/\n",
      "   creating: ./lm/checkpoint-87400/\n",
      "  inflating: ./lm/checkpoint-87400/config.json  \n",
      "  inflating: ./lm/checkpoint-87400/pytorch_model.bin  \n",
      "  inflating: ./lm/checkpoint-87400/training_args.bin  \n",
      "  inflating: ./lm/config.json        \n",
      "  inflating: ./lm/pytorch_model.bin  \n",
      "  inflating: ./lm/tokenizer_config.json  \n",
      "  inflating: ./lm/special_tokens_map.json  \n",
      " extracting: ./lm/added_tokens.json  \n",
      "  inflating: ./lm/vocab.txt          \n",
      "  inflating: ./lm/training_args.bin  \n"
     ]
    }
   ],
   "source": [
    "!pip install gdown\n",
    "!gdown https://drive.google.com/uc?id=11AENyWl6fD5rgoIIwnZy692vE_pqZQ8Z\n",
    "!gdown https://drive.google.com/uc?id=1ZCgMnlPTQvmU4KB5HQpLGFNZt-uEzNks\n",
    "!apt-get install unzip\n",
    "!unzip zipfile.zip -d .\n",
    "!rm zipfile.zip"
   ]
  },
  {
   "cell_type": "code",
   "execution_count": null,
   "metadata": {},
   "outputs": [],
   "source": []
  }
 ],
 "metadata": {
  "kernelspec": {
   "display_name": "Python 3",
   "language": "python",
   "name": "python3"
  },
  "language_info": {
   "codemirror_mode": {
    "name": "ipython",
    "version": 3
   },
   "file_extension": ".py",
   "mimetype": "text/x-python",
   "name": "python",
   "nbconvert_exporter": "python",
   "pygments_lexer": "ipython3",
   "version": "3.7.1"
  }
 },
 "nbformat": 4,
 "nbformat_minor": 2
}
